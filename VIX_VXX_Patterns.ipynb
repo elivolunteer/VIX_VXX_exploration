{
 "cells": [
  {
   "cell_type": "markdown",
   "metadata": {},
   "source": [
    "# VIX and VXX Analysis"
   ]
  },
  {
   "cell_type": "code",
   "execution_count": null,
   "metadata": {},
   "outputs": [],
   "source": [
    "from config import CONSUMER_KEY, REDIRECT_URI, TD_ACCOUNT\n",
    "import datetime as dt\n",
    "import matplotlib as plt\n",
    "import numpy\n",
    "import pandas\n",
    "from td.client import TDClient"
   ]
  }
 ],
 "metadata": {
  "language_info": {
   "name": "python"
  },
  "orig_nbformat": 4
 },
 "nbformat": 4,
 "nbformat_minor": 2
}
